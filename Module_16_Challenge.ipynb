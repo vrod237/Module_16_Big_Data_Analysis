{
  "nbformat": 4,
  "nbformat_minor": 0,
  "metadata": {
    "colab": {
      "name": "Module_16_Challenge.ipynb",
      "provenance": [],
      "collapsed_sections": [],
      "authorship_tag": "ABX9TyM7ZSty82SzHM97MDaLHq22",
      "include_colab_link": true
    },
    "kernelspec": {
      "name": "python3",
      "display_name": "Python 3"
    }
  },
  "cells": [
    {
      "cell_type": "markdown",
      "metadata": {
        "id": "view-in-github",
        "colab_type": "text"
      },
      "source": [
        "<a href=\"https://colab.research.google.com/github/vrod237/Module_16_Big_Data_Analysis/blob/master/Module_16_Challenge.ipynb\" target=\"_parent\"><img src=\"https://colab.research.google.com/assets/colab-badge.svg\" alt=\"Open In Colab\"/></a>"
      ]
    },
    {
      "cell_type": "code",
      "metadata": {
        "id": "baQacgikXXjR",
        "colab_type": "code",
        "colab": {
          "base_uri": "https://localhost:8080/",
          "height": 243
        },
        "outputId": "bd62e8a7-7f96-43a1-8f9f-6c462d88d1df"
      },
      "source": [
        "import os\n",
        "# Find the latest version of spark 3.0  from http://www-us.apache.org/dist/spark/ and enter as the spark version\n",
        "# For example:\n",
        "# spark_version = 'spark-3.0.1'\n",
        "spark_version = 'spark-2.4.7'\n",
        "os.environ['SPARK_VERSION']=spark_version\n",
        "\n",
        "# Install Spark and Java\n",
        "!apt-get update\n",
        "!apt-get install openjdk-8-jdk-headless -qq > /dev/null\n",
        "!wget -q http://www-us.apache.org/dist/spark/$SPARK_VERSION/$SPARK_VERSION-bin-hadoop2.7.tgz\n",
        "!tar xf $SPARK_VERSION-bin-hadoop2.7.tgz\n",
        "!pip install -q findspark\n",
        "\n",
        "# Set Environment Variables\n",
        "import os\n",
        "os.environ[\"JAVA_HOME\"] = \"/usr/lib/jvm/java-8-openjdk-amd64\"\n",
        "os.environ[\"SPARK_HOME\"] = f\"/content/{spark_version}-bin-hadoop2.7\"\n",
        "\n",
        "# Start a SparkSession\n",
        "import findspark\n",
        "findspark.init()"
      ],
      "execution_count": null,
      "outputs": [
        {
          "output_type": "stream",
          "text": [
            "Hit:1 https://cloud.r-project.org/bin/linux/ubuntu bionic-cran35/ InRelease\n",
            "Ign:2 https://developer.download.nvidia.com/compute/cuda/repos/ubuntu1804/x86_64  InRelease\n",
            "Ign:3 https://developer.download.nvidia.com/compute/machine-learning/repos/ubuntu1804/x86_64  InRelease\n",
            "Hit:4 https://developer.download.nvidia.com/compute/cuda/repos/ubuntu1804/x86_64  Release\n",
            "Hit:5 https://developer.download.nvidia.com/compute/machine-learning/repos/ubuntu1804/x86_64  Release\n",
            "Get:7 http://security.ubuntu.com/ubuntu bionic-security InRelease [88.7 kB]\n",
            "Hit:8 http://archive.ubuntu.com/ubuntu bionic InRelease\n",
            "Hit:9 http://ppa.launchpad.net/graphics-drivers/ppa/ubuntu bionic InRelease\n",
            "Get:11 http://archive.ubuntu.com/ubuntu bionic-updates InRelease [88.7 kB]\n",
            "Hit:12 http://ppa.launchpad.net/marutter/c2d4u3.5/ubuntu bionic InRelease\n",
            "Get:13 http://archive.ubuntu.com/ubuntu bionic-backports InRelease [74.6 kB]\n",
            "Fetched 252 kB in 2s (123 kB/s)\n",
            "Reading package lists... Done\n"
          ],
          "name": "stdout"
        }
      ]
    },
    {
      "cell_type": "code",
      "metadata": {
        "id": "fDeRi6I9cT2q",
        "colab_type": "code",
        "colab": {
          "base_uri": "https://localhost:8080/",
          "height": 208
        },
        "outputId": "8d0e0389-d331-4e76-e034-070782c77f02"
      },
      "source": [
        "!wget https://jdbc.postgresql.org/download/postgresql-42.2.9.jar"
      ],
      "execution_count": null,
      "outputs": [
        {
          "output_type": "stream",
          "text": [
            "--2020-09-21 01:31:26--  https://jdbc.postgresql.org/download/postgresql-42.2.9.jar\n",
            "Resolving jdbc.postgresql.org (jdbc.postgresql.org)... 72.32.157.228, 2001:4800:3e1:1::228\n",
            "Connecting to jdbc.postgresql.org (jdbc.postgresql.org)|72.32.157.228|:443... connected.\n",
            "HTTP request sent, awaiting response... 200 OK\n",
            "Length: 914037 (893K) [application/java-archive]\n",
            "Saving to: ‘postgresql-42.2.9.jar.1’\n",
            "\n",
            "postgresql-42.2.9.j 100%[===================>] 892.61K  1.05MB/s    in 0.8s    \n",
            "\n",
            "2020-09-21 01:31:28 (1.05 MB/s) - ‘postgresql-42.2.9.jar.1’ saved [914037/914037]\n",
            "\n"
          ],
          "name": "stdout"
        }
      ]
    },
    {
      "cell_type": "code",
      "metadata": {
        "id": "zfvw1WbjcT5b",
        "colab_type": "code",
        "colab": {}
      },
      "source": [
        "from pyspark.sql import SparkSession\n",
        "spark = SparkSession.builder.appName(\"CloudETL\").config(\"spark.driver.extraClassPath\",\"/content/postgresql-42.2.9.jar\").getOrCreate()"
      ],
      "execution_count": null,
      "outputs": []
    },
    {
      "cell_type": "code",
      "metadata": {
        "id": "IuH5lkwHcT8K",
        "colab_type": "code",
        "colab": {
          "base_uri": "https://localhost:8080/",
          "height": 489
        },
        "outputId": "fcc1c66b-f345-42c1-e8b0-757627404160"
      },
      "source": [
        "# Read in data from S3 Buckets\n",
        "from pyspark import SparkFiles\n",
        "url =\"https://s3.amazonaws.com/amazon-reviews-pds/tsv/amazon_reviews_us_Sports_v1_00.tsv.gz\"\n",
        "spark.sparkContext.addFile(url)\n",
        "\n",
        "sport_review_data_df = spark.read.csv(SparkFiles.get(\"amazon_reviews_us_Sports_v1_00.tsv.gz\"), sep=\"\\t\", header=True, inferSchema=True)\n",
        "\n",
        "# Show DataFrame\n",
        "sport_review_data_df.show()"
      ],
      "execution_count": null,
      "outputs": [
        {
          "output_type": "stream",
          "text": [
            "+-----------+-----------+--------------+----------+--------------+--------------------+----------------+-----------+-------------+-----------+----+-----------------+--------------------+--------------------+-------------------+\n",
            "|marketplace|customer_id|     review_id|product_id|product_parent|       product_title|product_category|star_rating|helpful_votes|total_votes|vine|verified_purchase|     review_headline|         review_body|        review_date|\n",
            "+-----------+-----------+--------------+----------+--------------+--------------------+----------------+-----------+-------------+-----------+----+-----------------+--------------------+--------------------+-------------------+\n",
            "|         US|   48945260|R1WBPB8MDCCN8F|B012P7UPSM|     409940130|Chicago Blackhawk...|          Sports|          5|            0|          0|   N|                N|   LOVE IT. 6 stars!|Bought this last ...|2015-08-31 00:00:00|\n",
            "|         US|    5782091|R32M0YEWV77XG8|B001GQ3VHG|     657746679|Copag Poker Size ...|          Sports|          5|            1|          1|   N|                Y|       Shipped fast.|These are the bes...|2015-08-31 00:00:00|\n",
            "|         US|   45813853| RR8V7WR27NXJ5|B008VS8M58|     962442336|Baoer 223 5.56x45...|          Sports|          1|            0|          0|   N|                Y|Good idea if it w...|It looks good, th...|2015-08-31 00:00:00|\n",
            "|         US|    1593730|R1MHO5V9Z932AY|B005F06F4U|      74305227|All Terrain Tackl...|          Sports|          5|            0|          0|   N|                Y|          Five Stars|           Great jig|2015-08-31 00:00:00|\n",
            "|         US|   29605511|R16PD71086BD2V|B010T4IE2C|     787185588|Swim Cap - 3 Pack...|          Sports|          5|            0|          1|   N|                N|Great quality sil...|I love swimming i...|2015-08-31 00:00:00|\n",
            "|         US|   11112959|R1Z8IFGWTRWXT6|B004RKJGLS|      94127483|adidas Men's Spor...|          Sports|          3|            0|          0|   N|                Y|Love everything a...|Love everything a...|2015-08-31 00:00:00|\n",
            "|         US|     108031|R3AUMSHAW73HWN|B005V3DCBU|     526977496|Nike Men's Perfor...|          Sports|          4|            2|          3|   N|                N|          Four Stars|not the best sock...|2015-08-31 00:00:00|\n",
            "|         US|   13981540|R2KWDWFOHGX6FL|B00MHT9WN8|      26521265|Green Bay Packers...|          Sports|          5|            0|          0|   N|                Y|          Five Stars|             Love it|2015-08-31 00:00:00|\n",
            "|         US|   37993909|R3H9543FWBWFBU|B001CSIRQ8|     652431165|Isokinetics Inc. ...|          Sports|          5|            1|          1|   N|                Y|can't wait to use it|Unfortunately I h...|2015-08-31 00:00:00|\n",
            "|         US|   26040213| RUANXOQ9W3OU5|B001KZ3NOO|     635861713|Aottop Quality El...|          Sports|          5|            0|          0|   N|                Y|great product, ac...|fast shipping , g...|2015-08-31 00:00:00|\n",
            "|         US|   34657602|R31673RTGEZSW7|B00005RCQS|      72099763|Everlast 2'x6' Fo...|          Sports|          5|            2|          2|   N|                Y|this mat is a pre...|If you have a ter...|2015-08-31 00:00:00|\n",
            "|         US|   14346192|R22OQLFSH42RCM|B00FA7RWVI|     757354022|OGIO Men's Shredd...|          Sports|          5|            1|          1|   N|                Y|  Versatile Golf Bag|Love this golf ba...|2015-08-31 00:00:00|\n",
            "|         US|   38782687|R12LEL4F3TSZUJ|B000MMH2HU|     272402599|Blue Sea Systems ...|          Sports|          5|            2|          2|   N|                Y|Great AC Main Bre...|Perfect mounting ...|2015-08-31 00:00:00|\n",
            "|         US|   27138575|R2L9XWD03072NI|B00WJOATDS|     375070208|Zengi AR15 45 Deg...|          Sports|          5|            1|          2|   N|                Y|   Nice, some quirks|For the cost you ...|2015-08-31 00:00:00|\n",
            "|         US|   11838771|R2K0U91HIACANO|B00BOM2JNY|     639666785|Black Mountain Pr...|          Sports|          5|            0|          0|   N|                N|55 cm - Good qual...|The ball is very ...|2015-08-31 00:00:00|\n",
            "|         US|     535800|R29SP6MBT7MXG7|B00OD5GAFM|      38715442|Trijicon VCOG 1-6...|          Sports|          4|            3|          3|   N|                Y|    Very nice scope.|Very nice scope.....|2015-08-31 00:00:00|\n",
            "|         US|   23156579|R31XREAAMATEPY|B00CAHDC1K|      57088652|Naruto Headband f...|          Sports|          5|            0|          0|   N|                Y|was for my son an...|           This item|2015-08-31 00:00:00|\n",
            "|         US|   48107879|R2116AVB87SO38|B004NLHXLG|     114125984|Under Armour Men'...|          Sports|          5|            0|          0|   N|                Y|          Five Stars|greatest socks i ...|2015-08-31 00:00:00|\n",
            "|         US|   27260960|R3RDVBB6O0X3HW|B00L7OANWI|     883962979|Yes4All Deep Tiss...|          Sports|          5|            0|          0|   N|                Y|          Five Stars|Perfect for home ...|2015-08-31 00:00:00|\n",
            "|         US|   39537314|R3LW5T149LKKQM|B0085PPSIQ|     691479969|Lansky PS-MED01 B...|          Sports|          4|            0|          0|   N|                Y|A bit heavy for p...|Very good product...|2015-08-31 00:00:00|\n",
            "+-----------+-----------+--------------+----------+--------------+--------------------+----------------+-----------+-------------+-----------+----+-----------------+--------------------+--------------------+-------------------+\n",
            "only showing top 20 rows\n",
            "\n"
          ],
          "name": "stdout"
        }
      ]
    },
    {
      "cell_type": "code",
      "metadata": {
        "id": "aBuCXs7lcT_F",
        "colab_type": "code",
        "colab": {
          "base_uri": "https://localhost:8080/",
          "height": 34
        },
        "outputId": "47f2315f-f606-4f68-b465-7ab59af4a2dc"
      },
      "source": [
        "#Count the rows of the dataframe\n",
        "sport_review_data_df.count()"
      ],
      "execution_count": null,
      "outputs": [
        {
          "output_type": "execute_result",
          "data": {
            "text/plain": [
              "4850360"
            ]
          },
          "metadata": {
            "tags": []
          },
          "execution_count": 5
        }
      ]
    },
    {
      "cell_type": "code",
      "metadata": {
        "id": "a23GCNv5cmij",
        "colab_type": "code",
        "colab": {
          "base_uri": "https://localhost:8080/",
          "height": 489
        },
        "outputId": "e528e316-9f33-4990-af97-1bd1c1b4aa90"
      },
      "source": [
        "#Drop null values\n",
        "dropna_df = sport_review_data_df.dropna()\n",
        "dropna_df.show()"
      ],
      "execution_count": null,
      "outputs": [
        {
          "output_type": "stream",
          "text": [
            "+-----------+-----------+--------------+----------+--------------+--------------------+----------------+-----------+-------------+-----------+----+-----------------+--------------------+--------------------+-------------------+\n",
            "|marketplace|customer_id|     review_id|product_id|product_parent|       product_title|product_category|star_rating|helpful_votes|total_votes|vine|verified_purchase|     review_headline|         review_body|        review_date|\n",
            "+-----------+-----------+--------------+----------+--------------+--------------------+----------------+-----------+-------------+-----------+----+-----------------+--------------------+--------------------+-------------------+\n",
            "|         US|   48945260|R1WBPB8MDCCN8F|B012P7UPSM|     409940130|Chicago Blackhawk...|          Sports|          5|            0|          0|   N|                N|   LOVE IT. 6 stars!|Bought this last ...|2015-08-31 00:00:00|\n",
            "|         US|    5782091|R32M0YEWV77XG8|B001GQ3VHG|     657746679|Copag Poker Size ...|          Sports|          5|            1|          1|   N|                Y|       Shipped fast.|These are the bes...|2015-08-31 00:00:00|\n",
            "|         US|   45813853| RR8V7WR27NXJ5|B008VS8M58|     962442336|Baoer 223 5.56x45...|          Sports|          1|            0|          0|   N|                Y|Good idea if it w...|It looks good, th...|2015-08-31 00:00:00|\n",
            "|         US|    1593730|R1MHO5V9Z932AY|B005F06F4U|      74305227|All Terrain Tackl...|          Sports|          5|            0|          0|   N|                Y|          Five Stars|           Great jig|2015-08-31 00:00:00|\n",
            "|         US|   29605511|R16PD71086BD2V|B010T4IE2C|     787185588|Swim Cap - 3 Pack...|          Sports|          5|            0|          1|   N|                N|Great quality sil...|I love swimming i...|2015-08-31 00:00:00|\n",
            "|         US|   11112959|R1Z8IFGWTRWXT6|B004RKJGLS|      94127483|adidas Men's Spor...|          Sports|          3|            0|          0|   N|                Y|Love everything a...|Love everything a...|2015-08-31 00:00:00|\n",
            "|         US|     108031|R3AUMSHAW73HWN|B005V3DCBU|     526977496|Nike Men's Perfor...|          Sports|          4|            2|          3|   N|                N|          Four Stars|not the best sock...|2015-08-31 00:00:00|\n",
            "|         US|   13981540|R2KWDWFOHGX6FL|B00MHT9WN8|      26521265|Green Bay Packers...|          Sports|          5|            0|          0|   N|                Y|          Five Stars|             Love it|2015-08-31 00:00:00|\n",
            "|         US|   37993909|R3H9543FWBWFBU|B001CSIRQ8|     652431165|Isokinetics Inc. ...|          Sports|          5|            1|          1|   N|                Y|can't wait to use it|Unfortunately I h...|2015-08-31 00:00:00|\n",
            "|         US|   26040213| RUANXOQ9W3OU5|B001KZ3NOO|     635861713|Aottop Quality El...|          Sports|          5|            0|          0|   N|                Y|great product, ac...|fast shipping , g...|2015-08-31 00:00:00|\n",
            "|         US|   34657602|R31673RTGEZSW7|B00005RCQS|      72099763|Everlast 2'x6' Fo...|          Sports|          5|            2|          2|   N|                Y|this mat is a pre...|If you have a ter...|2015-08-31 00:00:00|\n",
            "|         US|   14346192|R22OQLFSH42RCM|B00FA7RWVI|     757354022|OGIO Men's Shredd...|          Sports|          5|            1|          1|   N|                Y|  Versatile Golf Bag|Love this golf ba...|2015-08-31 00:00:00|\n",
            "|         US|   38782687|R12LEL4F3TSZUJ|B000MMH2HU|     272402599|Blue Sea Systems ...|          Sports|          5|            2|          2|   N|                Y|Great AC Main Bre...|Perfect mounting ...|2015-08-31 00:00:00|\n",
            "|         US|   27138575|R2L9XWD03072NI|B00WJOATDS|     375070208|Zengi AR15 45 Deg...|          Sports|          5|            1|          2|   N|                Y|   Nice, some quirks|For the cost you ...|2015-08-31 00:00:00|\n",
            "|         US|   11838771|R2K0U91HIACANO|B00BOM2JNY|     639666785|Black Mountain Pr...|          Sports|          5|            0|          0|   N|                N|55 cm - Good qual...|The ball is very ...|2015-08-31 00:00:00|\n",
            "|         US|     535800|R29SP6MBT7MXG7|B00OD5GAFM|      38715442|Trijicon VCOG 1-6...|          Sports|          4|            3|          3|   N|                Y|    Very nice scope.|Very nice scope.....|2015-08-31 00:00:00|\n",
            "|         US|   23156579|R31XREAAMATEPY|B00CAHDC1K|      57088652|Naruto Headband f...|          Sports|          5|            0|          0|   N|                Y|was for my son an...|           This item|2015-08-31 00:00:00|\n",
            "|         US|   48107879|R2116AVB87SO38|B004NLHXLG|     114125984|Under Armour Men'...|          Sports|          5|            0|          0|   N|                Y|          Five Stars|greatest socks i ...|2015-08-31 00:00:00|\n",
            "|         US|   27260960|R3RDVBB6O0X3HW|B00L7OANWI|     883962979|Yes4All Deep Tiss...|          Sports|          5|            0|          0|   N|                Y|          Five Stars|Perfect for home ...|2015-08-31 00:00:00|\n",
            "|         US|   39537314|R3LW5T149LKKQM|B0085PPSIQ|     691479969|Lansky PS-MED01 B...|          Sports|          4|            0|          0|   N|                Y|A bit heavy for p...|Very good product...|2015-08-31 00:00:00|\n",
            "+-----------+-----------+--------------+----------+--------------+--------------------+----------------+-----------+-------------+-----------+----+-----------------+--------------------+--------------------+-------------------+\n",
            "only showing top 20 rows\n",
            "\n"
          ],
          "name": "stdout"
        }
      ]
    },
    {
      "cell_type": "code",
      "metadata": {
        "id": "S7vcJs5Zcmld",
        "colab_type": "code",
        "colab": {
          "base_uri": "https://localhost:8080/",
          "height": 34
        },
        "outputId": "8833ed36-7b4b-45a0-bcb5-b9001389a98e"
      },
      "source": [
        "#Count the rows of the dataframe\n",
        "dropna_df.count()"
      ],
      "execution_count": null,
      "outputs": [
        {
          "output_type": "execute_result",
          "data": {
            "text/plain": [
              "4848999"
            ]
          },
          "metadata": {
            "tags": []
          },
          "execution_count": 7
        }
      ]
    },
    {
      "cell_type": "code",
      "metadata": {
        "id": "dYiF60qMcmoH",
        "colab_type": "code",
        "colab": {}
      },
      "source": [
        "#Load in a sql function to use columns\n",
        "from pyspark.sql.functions import col"
      ],
      "execution_count": null,
      "outputs": []
    },
    {
      "cell_type": "code",
      "metadata": {
        "id": "z0eFCdjncmqy",
        "colab_type": "code",
        "colab": {
          "base_uri": "https://localhost:8080/",
          "height": 489
        },
        "outputId": "0351f081-92ec-4ee1-f38c-af2b95aacff4"
      },
      "source": [
        "# Drop Duplicates for the dataframe\n",
        "cleaned_df = dropna_df.drop_duplicates()\n",
        "cleaned_df.show()"
      ],
      "execution_count": null,
      "outputs": [
        {
          "output_type": "stream",
          "text": [
            "+-----------+-----------+--------------+----------+--------------+--------------------+----------------+-----------+-------------+-----------+----+-----------------+--------------------+--------------------+-------------------+\n",
            "|marketplace|customer_id|     review_id|product_id|product_parent|       product_title|product_category|star_rating|helpful_votes|total_votes|vine|verified_purchase|     review_headline|         review_body|        review_date|\n",
            "+-----------+-----------+--------------+----------+--------------+--------------------+----------------+-----------+-------------+-----------+----+-----------------+--------------------+--------------------+-------------------+\n",
            "|         US|   16250654|R1009D4P4FS0H5|B002WKDZIK|     432638981|MLB Head Rest Cov...|          Sports|          5|            0|          0|   N|                Y|           Great fit|I was surprised t...|2014-12-07 00:00:00|\n",
            "|         US|    3194133|R100KRNEKW216J|B004XWKZTW|     857930697|RDX Cowhide Leath...|          Sports|          5|            0|          0|   N|                Y|Best you'll find ...|This is a great p...|2015-08-11 00:00:00|\n",
            "|         US|   37034064|R100RLLUBWF8LV|B00IRLI45C|     830961924|FSU Seminoles Cha...|          Sports|          5|            0|          0|   N|                Y|          Five Stars|              Great!|2015-04-07 00:00:00|\n",
            "|         US|   13226850|R100SQRRYXEXRS|B006GPXB6S|     241865321|Golf Net Lacrosse...|          Sports|          4|            0|          1|   N|                Y|Net Catches Foam ...|A little tricky t...|2014-07-16 00:00:00|\n",
            "|         US|    8353218|R100XCP47QLYGY|B00HWH214C|     439871673|Under Armour Tran...|          Sports|          5|            0|          0|   N|                Y|          Five Stars|Great bag!!! Carr...|2015-04-11 00:00:00|\n",
            "|         US|   48270725|R101COSNZ9CHZZ|B003RCCZK6|     444216576|Command Arms Set ...|          Sports|          4|            0|          0|   N|                Y|Good fit, easy in...|I was impressed w...|2013-02-19 00:00:00|\n",
            "|         US|    1557701|R101J2DDFFWXSA|B00EEE2XPS|     836866547|Tactical Faux Moc...|          Sports|          5|            0|          0|   N|                Y|          Five Stars|             A+++++!|2014-11-16 00:00:00|\n",
            "|         US|   48312776|R101RFMV849UM0|B00HZJ8J4S|     896316279|Classic Accessori...|          Sports|          1|            1|          1|   N|                Y|            One Star|Not impermeable. ...|2015-07-10 00:00:00|\n",
            "|         US|   17884222|R101WR8MV7RHVJ|B00QJ22INK|     161738896|Polaris Red & Whi...|          Sports|          5|            0|          0|   N|                Y|          Five Stars|great shirt, nice...|2015-02-05 00:00:00|\n",
            "|         US|   16716265|R1022R2XT4MODW|B004TDPTZU|     190903720|Sightmark D44mm L...|          Sports|          4|            2|          2|   N|                N|               Wes B|Sunshade fits the...|2013-01-14 00:00:00|\n",
            "|         US|   42738332|R102CD34PITWAD|B000LC7ZUU|     426085597|Allen Cases - ATV...|          Sports|          2|            0|          0|   N|                Y|ATV gon and Bow Rack|I guess this prod...|2009-11-04 00:00:00|\n",
            "|         US|   46812936|R102S8PN85DDL5|B000NOOSII|     201962328|Lee Precision .45...|          Sports|          4|            0|          0|   N|                Y|       Nice products|       Nice products|2015-03-02 00:00:00|\n",
            "|         US|   12189059|R1038EUSHFX2OF|B000C0B3E0|     677639325|Miracle Cloth All...|          Sports|          5|            0|          0|   N|                Y|          Works well|This is the secon...|2013-01-09 00:00:00|\n",
            "|         US|   22893790|R103EQEESLK11F|B001713EJK|     821259676|NcStar Pressure S...|          Sports|          5|            0|          0|   N|                Y|  Works like a champ|If you have a bro...|2013-01-31 00:00:00|\n",
            "|         US|   45367723|R103J22VH10UK3|B00CRPG1FY|     195511791|Dakine Men's Ahi ...|          Sports|          4|            0|          0|   N|                Y|Just a great hat ...|I love to wear it...|2013-12-23 00:00:00|\n",
            "|         US|   52590018|R103N6HW3Z9NT4|B00B9AB4M8|     700988439|Bridgestone Golf ...|          Sports|          5|            0|          0|   N|                Y|Exceptional ball ...|After experimenti...|2015-05-20 00:00:00|\n",
            "|         US|   18811957|R103V757C2OFEN|B004FVIQOM|     278876835|Condor Double M4 ...|          Sports|          5|            0|          0|   N|                Y|             20 & 30|works great with ...|2014-04-01 00:00:00|\n",
            "|         US|    4264936|R103Y0EV2EN0NA|B00R7JFW7I|     965305189|Ohuhu Waist Trimm...|          Sports|          5|            6|          7|   N|                Y|          Five Stars|I'm really impres...|2015-06-03 00:00:00|\n",
            "|         US|   17703759|R10477JGE1CPCT|B004XXGYXW|       3864711|Lockdown Handgun ...|          Sports|          5|            1|          3|   N|                Y|      Best lock ever|I use thisto keep...|2012-12-08 00:00:00|\n",
            "|         US|   15857907|R104NOTL05P06O|B00AYKFNT4|      22010064|Carpet Dancers ® ...|          Sports|          4|            0|          0|   N|                Y|Great for at-home...|Needed to use the...|2014-12-29 00:00:00|\n",
            "+-----------+-----------+--------------+----------+--------------+--------------------+----------------+-----------+-------------+-----------+----+-----------------+--------------------+--------------------+-------------------+\n",
            "only showing top 20 rows\n",
            "\n"
          ],
          "name": "stdout"
        }
      ]
    },
    {
      "cell_type": "code",
      "metadata": {
        "id": "NQlZlZ9ocmtG",
        "colab_type": "code",
        "colab": {
          "base_uri": "https://localhost:8080/",
          "height": 34
        },
        "outputId": "c3d0a60c-2e7d-4649-fdda-14c53f207512"
      },
      "source": [
        "#Count the rows of the dataframe\n",
        "cleaned_df.count()"
      ],
      "execution_count": null,
      "outputs": [
        {
          "output_type": "execute_result",
          "data": {
            "text/plain": [
              "4848999"
            ]
          },
          "metadata": {
            "tags": []
          },
          "execution_count": 10
        }
      ]
    },
    {
      "cell_type": "code",
      "metadata": {
        "id": "pLNLV8rmcmv0",
        "colab_type": "code",
        "colab": {
          "base_uri": "https://localhost:8080/",
          "height": 489
        },
        "outputId": "b593a507-5520-4d19-d4a4-95321d55bde8"
      },
      "source": [
        "from pyspark.sql.functions import to_date\n",
        "\n",
        "date_df = cleaned_df.withColumn('review_date', \n",
        "                   to_date(cleaned_df.review_date, 'yyyy-MM-dd'))\n",
        "date_df.show()"
      ],
      "execution_count": null,
      "outputs": [
        {
          "output_type": "stream",
          "text": [
            "+-----------+-----------+--------------+----------+--------------+--------------------+----------------+-----------+-------------+-----------+----+-----------------+--------------------+--------------------+-----------+\n",
            "|marketplace|customer_id|     review_id|product_id|product_parent|       product_title|product_category|star_rating|helpful_votes|total_votes|vine|verified_purchase|     review_headline|         review_body|review_date|\n",
            "+-----------+-----------+--------------+----------+--------------+--------------------+----------------+-----------+-------------+-----------+----+-----------------+--------------------+--------------------+-----------+\n",
            "|         US|   16250654|R1009D4P4FS0H5|B002WKDZIK|     432638981|MLB Head Rest Cov...|          Sports|          5|            0|          0|   N|                Y|           Great fit|I was surprised t...| 2014-12-07|\n",
            "|         US|    3194133|R100KRNEKW216J|B004XWKZTW|     857930697|RDX Cowhide Leath...|          Sports|          5|            0|          0|   N|                Y|Best you'll find ...|This is a great p...| 2015-08-11|\n",
            "|         US|   37034064|R100RLLUBWF8LV|B00IRLI45C|     830961924|FSU Seminoles Cha...|          Sports|          5|            0|          0|   N|                Y|          Five Stars|              Great!| 2015-04-07|\n",
            "|         US|   13226850|R100SQRRYXEXRS|B006GPXB6S|     241865321|Golf Net Lacrosse...|          Sports|          4|            0|          1|   N|                Y|Net Catches Foam ...|A little tricky t...| 2014-07-16|\n",
            "|         US|    8353218|R100XCP47QLYGY|B00HWH214C|     439871673|Under Armour Tran...|          Sports|          5|            0|          0|   N|                Y|          Five Stars|Great bag!!! Carr...| 2015-04-11|\n",
            "|         US|   48270725|R101COSNZ9CHZZ|B003RCCZK6|     444216576|Command Arms Set ...|          Sports|          4|            0|          0|   N|                Y|Good fit, easy in...|I was impressed w...| 2013-02-19|\n",
            "|         US|    1557701|R101J2DDFFWXSA|B00EEE2XPS|     836866547|Tactical Faux Moc...|          Sports|          5|            0|          0|   N|                Y|          Five Stars|             A+++++!| 2014-11-16|\n",
            "|         US|   48312776|R101RFMV849UM0|B00HZJ8J4S|     896316279|Classic Accessori...|          Sports|          1|            1|          1|   N|                Y|            One Star|Not impermeable. ...| 2015-07-10|\n",
            "|         US|   17884222|R101WR8MV7RHVJ|B00QJ22INK|     161738896|Polaris Red & Whi...|          Sports|          5|            0|          0|   N|                Y|          Five Stars|great shirt, nice...| 2015-02-05|\n",
            "|         US|   16716265|R1022R2XT4MODW|B004TDPTZU|     190903720|Sightmark D44mm L...|          Sports|          4|            2|          2|   N|                N|               Wes B|Sunshade fits the...| 2013-01-14|\n",
            "|         US|   42738332|R102CD34PITWAD|B000LC7ZUU|     426085597|Allen Cases - ATV...|          Sports|          2|            0|          0|   N|                Y|ATV gon and Bow Rack|I guess this prod...| 2009-11-04|\n",
            "|         US|   46812936|R102S8PN85DDL5|B000NOOSII|     201962328|Lee Precision .45...|          Sports|          4|            0|          0|   N|                Y|       Nice products|       Nice products| 2015-03-02|\n",
            "|         US|   12189059|R1038EUSHFX2OF|B000C0B3E0|     677639325|Miracle Cloth All...|          Sports|          5|            0|          0|   N|                Y|          Works well|This is the secon...| 2013-01-09|\n",
            "|         US|   22893790|R103EQEESLK11F|B001713EJK|     821259676|NcStar Pressure S...|          Sports|          5|            0|          0|   N|                Y|  Works like a champ|If you have a bro...| 2013-01-31|\n",
            "|         US|   45367723|R103J22VH10UK3|B00CRPG1FY|     195511791|Dakine Men's Ahi ...|          Sports|          4|            0|          0|   N|                Y|Just a great hat ...|I love to wear it...| 2013-12-23|\n",
            "|         US|   52590018|R103N6HW3Z9NT4|B00B9AB4M8|     700988439|Bridgestone Golf ...|          Sports|          5|            0|          0|   N|                Y|Exceptional ball ...|After experimenti...| 2015-05-20|\n",
            "|         US|   18811957|R103V757C2OFEN|B004FVIQOM|     278876835|Condor Double M4 ...|          Sports|          5|            0|          0|   N|                Y|             20 & 30|works great with ...| 2014-04-01|\n",
            "|         US|    4264936|R103Y0EV2EN0NA|B00R7JFW7I|     965305189|Ohuhu Waist Trimm...|          Sports|          5|            6|          7|   N|                Y|          Five Stars|I'm really impres...| 2015-06-03|\n",
            "|         US|   17703759|R10477JGE1CPCT|B004XXGYXW|       3864711|Lockdown Handgun ...|          Sports|          5|            1|          3|   N|                Y|      Best lock ever|I use thisto keep...| 2012-12-08|\n",
            "|         US|   15857907|R104NOTL05P06O|B00AYKFNT4|      22010064|Carpet Dancers ® ...|          Sports|          4|            0|          0|   N|                Y|Great for at-home...|Needed to use the...| 2014-12-29|\n",
            "+-----------+-----------+--------------+----------+--------------+--------------------+----------------+-----------+-------------+-----------+----+-----------------+--------------------+--------------------+-----------+\n",
            "only showing top 20 rows\n",
            "\n"
          ],
          "name": "stdout"
        }
      ]
    },
    {
      "cell_type": "code",
      "metadata": {
        "id": "kOjbxgLMcUB8",
        "colab_type": "code",
        "colab": {
          "base_uri": "https://localhost:8080/",
          "height": 469
        },
        "outputId": "c2857860-baa0-42bb-8438-7949f0589af2"
      },
      "source": [
        "# Create review dataframe to match review_id table\n",
        "clean_review_df = date_df.select([\"review_id\", \"customer_id\", \"product_id\", \"product_parent\", \"review_date\"])\n",
        "clean_review_df.show()"
      ],
      "execution_count": null,
      "outputs": [
        {
          "output_type": "stream",
          "text": [
            "+--------------+-----------+----------+--------------+-----------+\n",
            "|     review_id|customer_id|product_id|product_parent|review_date|\n",
            "+--------------+-----------+----------+--------------+-----------+\n",
            "|R1009D4P4FS0H5|   16250654|B002WKDZIK|     432638981| 2014-12-07|\n",
            "|R100KRNEKW216J|    3194133|B004XWKZTW|     857930697| 2015-08-11|\n",
            "|R100RLLUBWF8LV|   37034064|B00IRLI45C|     830961924| 2015-04-07|\n",
            "|R100SQRRYXEXRS|   13226850|B006GPXB6S|     241865321| 2014-07-16|\n",
            "|R100XCP47QLYGY|    8353218|B00HWH214C|     439871673| 2015-04-11|\n",
            "|R101COSNZ9CHZZ|   48270725|B003RCCZK6|     444216576| 2013-02-19|\n",
            "|R101J2DDFFWXSA|    1557701|B00EEE2XPS|     836866547| 2014-11-16|\n",
            "|R101RFMV849UM0|   48312776|B00HZJ8J4S|     896316279| 2015-07-10|\n",
            "|R101WR8MV7RHVJ|   17884222|B00QJ22INK|     161738896| 2015-02-05|\n",
            "|R1022R2XT4MODW|   16716265|B004TDPTZU|     190903720| 2013-01-14|\n",
            "|R102CD34PITWAD|   42738332|B000LC7ZUU|     426085597| 2009-11-04|\n",
            "|R102S8PN85DDL5|   46812936|B000NOOSII|     201962328| 2015-03-02|\n",
            "|R1038EUSHFX2OF|   12189059|B000C0B3E0|     677639325| 2013-01-09|\n",
            "|R103EQEESLK11F|   22893790|B001713EJK|     821259676| 2013-01-31|\n",
            "|R103J22VH10UK3|   45367723|B00CRPG1FY|     195511791| 2013-12-23|\n",
            "|R103N6HW3Z9NT4|   52590018|B00B9AB4M8|     700988439| 2015-05-20|\n",
            "|R103V757C2OFEN|   18811957|B004FVIQOM|     278876835| 2014-04-01|\n",
            "|R103Y0EV2EN0NA|    4264936|B00R7JFW7I|     965305189| 2015-06-03|\n",
            "|R10477JGE1CPCT|   17703759|B004XXGYXW|       3864711| 2012-12-08|\n",
            "|R104NOTL05P06O|   15857907|B00AYKFNT4|      22010064| 2014-12-29|\n",
            "+--------------+-----------+----------+--------------+-----------+\n",
            "only showing top 20 rows\n",
            "\n"
          ],
          "name": "stdout"
        }
      ]
    },
    {
      "cell_type": "code",
      "metadata": {
        "id": "TWyM1MljcUEa",
        "colab_type": "code",
        "colab": {
          "base_uri": "https://localhost:8080/",
          "height": 469
        },
        "outputId": "90f57ac0-ecda-45e7-8164-ffb81b95e9e2"
      },
      "source": [
        "# Create products dataframe to match products table\n",
        "clean_products_df = date_df.select([\"product_id\", \"product_title\"]).drop_duplicates()\n",
        "clean_products_df.show()"
      ],
      "execution_count": null,
      "outputs": [
        {
          "output_type": "stream",
          "text": [
            "+----------+--------------------+\n",
            "|product_id|       product_title|\n",
            "+----------+--------------------+\n",
            "|B00QKTNMDC|Jarv SMART BT Blu...|\n",
            "|B002WU9PIE|Fighting Sports P...|\n",
            "|B000P3WQ86|Plano Pro-Max Sin...|\n",
            "|B0012K9RFQ|ak887 9mm silver ...|\n",
            "|B000BJKWXK|CAP Barbell Olymp...|\n",
            "|B00SIKOKS2|Prime 10 Year Bas...|\n",
            "|B00ISHW3D4|Nike Mens Therma ...|\n",
            "|B000YJ303G|Speedo Women's Pl...|\n",
            "|B0063HVE18|Weston 30-0008-W ...|\n",
            "|B002BK3ZSQ|MLB Anaheim Angel...|\n",
            "|B006H7PKFU|United States Mar...|\n",
            "|B003MSQ5AG|The Weather Compa...|\n",
            "|B000VZLCWY|Lube-N-Walk Tread...|\n",
            "|B006DY3R3Y|MAG SIG P250-SC 4...|\n",
            "|B00DTVCFW8|adidas Performanc...|\n",
            "|B00CJICDT2|TOUGH-GRID 750lb ...|\n",
            "|B00G50R6QA|Hotdog Yoga Rollpack|\n",
            "|B00HX9LIDE|Hooded Deluxe Rai...|\n",
            "|B009TN5JK0|VERY100 Red Dot B...|\n",
            "|B00FGUHKY8|Wacces Resistance...|\n",
            "+----------+--------------------+\n",
            "only showing top 20 rows\n",
            "\n"
          ],
          "name": "stdout"
        }
      ]
    },
    {
      "cell_type": "code",
      "metadata": {
        "id": "xY1K9sTicUG3",
        "colab_type": "code",
        "colab": {
          "base_uri": "https://localhost:8080/",
          "height": 295
        },
        "outputId": "5ce84028-b845-457d-8a9d-b5dc5951bccb"
      },
      "source": [
        "# Create customers dataframe to match customers table\n",
        "\n",
        "clean_customers_df = date_df.groupby(\"customer_id\").agg({\"customer_id\":\"count\"}).withColumnRenamed(\"count(customer_id)\", \"customer_count\")\n",
        "clean_customers_df.show(10)"
      ],
      "execution_count": null,
      "outputs": [
        {
          "output_type": "stream",
          "text": [
            "+-----------+--------------+\n",
            "|customer_id|customer_count|\n",
            "+-----------+--------------+\n",
            "|    7325573|             6|\n",
            "|   43272334|             2|\n",
            "|   42103966|             1|\n",
            "|   18845343|             3|\n",
            "|   31444826|             7|\n",
            "|    7434128|             1|\n",
            "|   38058353|             1|\n",
            "|   15367185|            10|\n",
            "|   53036614|             2|\n",
            "|   48264549|             9|\n",
            "+-----------+--------------+\n",
            "only showing top 10 rows\n",
            "\n"
          ],
          "name": "stdout"
        }
      ]
    },
    {
      "cell_type": "code",
      "metadata": {
        "id": "90DKn4rWeBKe",
        "colab_type": "code",
        "colab": {
          "base_uri": "https://localhost:8080/",
          "height": 469
        },
        "outputId": "3c4f73eb-63fc-4809-804c-6ea505710d31"
      },
      "source": [
        "# Create vine_table dataframe to match vine table\n",
        "vine_table_df = cleaned_df.select([\"review_id\", \"star_rating\", \"helpful_votes\", \"total_votes\", \"vine\"])\n",
        "vine_table_df.show()"
      ],
      "execution_count": null,
      "outputs": [
        {
          "output_type": "stream",
          "text": [
            "+--------------+-----------+-------------+-----------+----+\n",
            "|     review_id|star_rating|helpful_votes|total_votes|vine|\n",
            "+--------------+-----------+-------------+-----------+----+\n",
            "|R1009D4P4FS0H5|          5|            0|          0|   N|\n",
            "|R100KRNEKW216J|          5|            0|          0|   N|\n",
            "|R100RLLUBWF8LV|          5|            0|          0|   N|\n",
            "|R100SQRRYXEXRS|          4|            0|          1|   N|\n",
            "|R100XCP47QLYGY|          5|            0|          0|   N|\n",
            "|R101COSNZ9CHZZ|          4|            0|          0|   N|\n",
            "|R101J2DDFFWXSA|          5|            0|          0|   N|\n",
            "|R101RFMV849UM0|          1|            1|          1|   N|\n",
            "|R101WR8MV7RHVJ|          5|            0|          0|   N|\n",
            "|R1022R2XT4MODW|          4|            2|          2|   N|\n",
            "|R102CD34PITWAD|          2|            0|          0|   N|\n",
            "|R102S8PN85DDL5|          4|            0|          0|   N|\n",
            "|R1038EUSHFX2OF|          5|            0|          0|   N|\n",
            "|R103EQEESLK11F|          5|            0|          0|   N|\n",
            "|R103J22VH10UK3|          4|            0|          0|   N|\n",
            "|R103N6HW3Z9NT4|          5|            0|          0|   N|\n",
            "|R103V757C2OFEN|          5|            0|          0|   N|\n",
            "|R103Y0EV2EN0NA|          5|            6|          7|   N|\n",
            "|R10477JGE1CPCT|          5|            1|          3|   N|\n",
            "|R104NOTL05P06O|          4|            0|          0|   N|\n",
            "+--------------+-----------+-------------+-----------+----+\n",
            "only showing top 20 rows\n",
            "\n"
          ],
          "name": "stdout"
        }
      ]
    },
    {
      "cell_type": "code",
      "metadata": {
        "id": "9cWGpe5GeBNk",
        "colab_type": "code",
        "colab": {}
      },
      "source": [
        "# Configure settings for RDS\n",
        "mode = \"append\"\n",
        "jdbc_url=\"jdbc:postgresql://dataviz-challenge.ct8qvq3ky7mv.us-east-2.rds.amazonaws.com:5432/challenge_db\"\n",
        "config = {\"user\":\"postgres\", \n",
        "          \"password\":\"Longhorn74!\", \n",
        "          \"driver\":\"org.postgresql.Driver\"}\n"
      ],
      "execution_count": null,
      "outputs": []
    },
    {
      "cell_type": "code",
      "metadata": {
        "id": "GU-BDBmXeBQr",
        "colab_type": "code",
        "colab": {
          "base_uri": "https://localhost:8080/",
          "height": 328
        },
        "outputId": "02022d23-30ec-478f-a8d3-87d786641281"
      },
      "source": [
        "# Write dataframe to vine table table in RDS\n",
        "vine_table_df.write.jdbc(url=jdbc_url, table='vine_table', mode=mode, properties=config)"
      ],
      "execution_count": null,
      "outputs": [
        {
          "output_type": "error",
          "ename": "KeyboardInterrupt",
          "evalue": "ignored",
          "traceback": [
            "\u001b[0;31m---------------------------------------------------------------------------\u001b[0m",
            "\u001b[0;31mKeyboardInterrupt\u001b[0m                         Traceback (most recent call last)",
            "\u001b[0;32m<ipython-input-21-a8509bfa389d>\u001b[0m in \u001b[0;36m<module>\u001b[0;34m()\u001b[0m\n\u001b[1;32m      1\u001b[0m \u001b[0;31m# Write dataframe to vine table table in RDS\u001b[0m\u001b[0;34m\u001b[0m\u001b[0;34m\u001b[0m\u001b[0;34m\u001b[0m\u001b[0m\n\u001b[0;32m----> 2\u001b[0;31m \u001b[0mvine_table_df\u001b[0m\u001b[0;34m.\u001b[0m\u001b[0mwrite\u001b[0m\u001b[0;34m.\u001b[0m\u001b[0mjdbc\u001b[0m\u001b[0;34m(\u001b[0m\u001b[0murl\u001b[0m\u001b[0;34m=\u001b[0m\u001b[0mjdbc_url\u001b[0m\u001b[0;34m,\u001b[0m \u001b[0mtable\u001b[0m\u001b[0;34m=\u001b[0m\u001b[0;34m'vine_table'\u001b[0m\u001b[0;34m,\u001b[0m \u001b[0mmode\u001b[0m\u001b[0;34m=\u001b[0m\u001b[0mmode\u001b[0m\u001b[0;34m,\u001b[0m \u001b[0mproperties\u001b[0m\u001b[0;34m=\u001b[0m\u001b[0mconfig\u001b[0m\u001b[0;34m)\u001b[0m\u001b[0;34m\u001b[0m\u001b[0;34m\u001b[0m\u001b[0m\n\u001b[0m",
            "\u001b[0;32m/content/spark-2.4.7-bin-hadoop2.7/python/pyspark/sql/readwriter.py\u001b[0m in \u001b[0;36mjdbc\u001b[0;34m(self, url, table, mode, properties)\u001b[0m\n\u001b[1;32m    985\u001b[0m         \u001b[0;32mfor\u001b[0m \u001b[0mk\u001b[0m \u001b[0;32min\u001b[0m \u001b[0mproperties\u001b[0m\u001b[0;34m:\u001b[0m\u001b[0;34m\u001b[0m\u001b[0;34m\u001b[0m\u001b[0m\n\u001b[1;32m    986\u001b[0m             \u001b[0mjprop\u001b[0m\u001b[0;34m.\u001b[0m\u001b[0msetProperty\u001b[0m\u001b[0;34m(\u001b[0m\u001b[0mk\u001b[0m\u001b[0;34m,\u001b[0m \u001b[0mproperties\u001b[0m\u001b[0;34m[\u001b[0m\u001b[0mk\u001b[0m\u001b[0;34m]\u001b[0m\u001b[0;34m)\u001b[0m\u001b[0;34m\u001b[0m\u001b[0;34m\u001b[0m\u001b[0m\n\u001b[0;32m--> 987\u001b[0;31m         \u001b[0mself\u001b[0m\u001b[0;34m.\u001b[0m\u001b[0mmode\u001b[0m\u001b[0;34m(\u001b[0m\u001b[0mmode\u001b[0m\u001b[0;34m)\u001b[0m\u001b[0;34m.\u001b[0m\u001b[0m_jwrite\u001b[0m\u001b[0;34m.\u001b[0m\u001b[0mjdbc\u001b[0m\u001b[0;34m(\u001b[0m\u001b[0murl\u001b[0m\u001b[0;34m,\u001b[0m \u001b[0mtable\u001b[0m\u001b[0;34m,\u001b[0m \u001b[0mjprop\u001b[0m\u001b[0;34m)\u001b[0m\u001b[0;34m\u001b[0m\u001b[0;34m\u001b[0m\u001b[0m\n\u001b[0m\u001b[1;32m    988\u001b[0m \u001b[0;34m\u001b[0m\u001b[0m\n\u001b[1;32m    989\u001b[0m \u001b[0;34m\u001b[0m\u001b[0m\n",
            "\u001b[0;32m/content/spark-2.4.7-bin-hadoop2.7/python/lib/py4j-0.10.7-src.zip/py4j/java_gateway.py\u001b[0m in \u001b[0;36m__call__\u001b[0;34m(self, *args)\u001b[0m\n\u001b[1;32m   1253\u001b[0m             \u001b[0mproto\u001b[0m\u001b[0;34m.\u001b[0m\u001b[0mEND_COMMAND_PART\u001b[0m\u001b[0;34m\u001b[0m\u001b[0;34m\u001b[0m\u001b[0m\n\u001b[1;32m   1254\u001b[0m \u001b[0;34m\u001b[0m\u001b[0m\n\u001b[0;32m-> 1255\u001b[0;31m         \u001b[0manswer\u001b[0m \u001b[0;34m=\u001b[0m \u001b[0mself\u001b[0m\u001b[0;34m.\u001b[0m\u001b[0mgateway_client\u001b[0m\u001b[0;34m.\u001b[0m\u001b[0msend_command\u001b[0m\u001b[0;34m(\u001b[0m\u001b[0mcommand\u001b[0m\u001b[0;34m)\u001b[0m\u001b[0;34m\u001b[0m\u001b[0;34m\u001b[0m\u001b[0m\n\u001b[0m\u001b[1;32m   1256\u001b[0m         return_value = get_return_value(\n\u001b[1;32m   1257\u001b[0m             answer, self.gateway_client, self.target_id, self.name)\n",
            "\u001b[0;32m/content/spark-2.4.7-bin-hadoop2.7/python/lib/py4j-0.10.7-src.zip/py4j/java_gateway.py\u001b[0m in \u001b[0;36msend_command\u001b[0;34m(self, command, retry, binary)\u001b[0m\n\u001b[1;32m    983\u001b[0m         \u001b[0mconnection\u001b[0m \u001b[0;34m=\u001b[0m \u001b[0mself\u001b[0m\u001b[0;34m.\u001b[0m\u001b[0m_get_connection\u001b[0m\u001b[0;34m(\u001b[0m\u001b[0;34m)\u001b[0m\u001b[0;34m\u001b[0m\u001b[0;34m\u001b[0m\u001b[0m\n\u001b[1;32m    984\u001b[0m         \u001b[0;32mtry\u001b[0m\u001b[0;34m:\u001b[0m\u001b[0;34m\u001b[0m\u001b[0;34m\u001b[0m\u001b[0m\n\u001b[0;32m--> 985\u001b[0;31m             \u001b[0mresponse\u001b[0m \u001b[0;34m=\u001b[0m \u001b[0mconnection\u001b[0m\u001b[0;34m.\u001b[0m\u001b[0msend_command\u001b[0m\u001b[0;34m(\u001b[0m\u001b[0mcommand\u001b[0m\u001b[0;34m)\u001b[0m\u001b[0;34m\u001b[0m\u001b[0;34m\u001b[0m\u001b[0m\n\u001b[0m\u001b[1;32m    986\u001b[0m             \u001b[0;32mif\u001b[0m \u001b[0mbinary\u001b[0m\u001b[0;34m:\u001b[0m\u001b[0;34m\u001b[0m\u001b[0;34m\u001b[0m\u001b[0m\n\u001b[1;32m    987\u001b[0m                 \u001b[0;32mreturn\u001b[0m \u001b[0mresponse\u001b[0m\u001b[0;34m,\u001b[0m \u001b[0mself\u001b[0m\u001b[0;34m.\u001b[0m\u001b[0m_create_connection_guard\u001b[0m\u001b[0;34m(\u001b[0m\u001b[0mconnection\u001b[0m\u001b[0;34m)\u001b[0m\u001b[0;34m\u001b[0m\u001b[0;34m\u001b[0m\u001b[0m\n",
            "\u001b[0;32m/content/spark-2.4.7-bin-hadoop2.7/python/lib/py4j-0.10.7-src.zip/py4j/java_gateway.py\u001b[0m in \u001b[0;36msend_command\u001b[0;34m(self, command)\u001b[0m\n\u001b[1;32m   1150\u001b[0m \u001b[0;34m\u001b[0m\u001b[0m\n\u001b[1;32m   1151\u001b[0m         \u001b[0;32mtry\u001b[0m\u001b[0;34m:\u001b[0m\u001b[0;34m\u001b[0m\u001b[0;34m\u001b[0m\u001b[0m\n\u001b[0;32m-> 1152\u001b[0;31m             \u001b[0manswer\u001b[0m \u001b[0;34m=\u001b[0m \u001b[0msmart_decode\u001b[0m\u001b[0;34m(\u001b[0m\u001b[0mself\u001b[0m\u001b[0;34m.\u001b[0m\u001b[0mstream\u001b[0m\u001b[0;34m.\u001b[0m\u001b[0mreadline\u001b[0m\u001b[0;34m(\u001b[0m\u001b[0;34m)\u001b[0m\u001b[0;34m[\u001b[0m\u001b[0;34m:\u001b[0m\u001b[0;34m-\u001b[0m\u001b[0;36m1\u001b[0m\u001b[0;34m]\u001b[0m\u001b[0;34m)\u001b[0m\u001b[0;34m\u001b[0m\u001b[0;34m\u001b[0m\u001b[0m\n\u001b[0m\u001b[1;32m   1153\u001b[0m             \u001b[0mlogger\u001b[0m\u001b[0;34m.\u001b[0m\u001b[0mdebug\u001b[0m\u001b[0;34m(\u001b[0m\u001b[0;34m\"Answer received: {0}\"\u001b[0m\u001b[0;34m.\u001b[0m\u001b[0mformat\u001b[0m\u001b[0;34m(\u001b[0m\u001b[0manswer\u001b[0m\u001b[0;34m)\u001b[0m\u001b[0;34m)\u001b[0m\u001b[0;34m\u001b[0m\u001b[0;34m\u001b[0m\u001b[0m\n\u001b[1;32m   1154\u001b[0m             \u001b[0;32mif\u001b[0m \u001b[0manswer\u001b[0m\u001b[0;34m.\u001b[0m\u001b[0mstartswith\u001b[0m\u001b[0;34m(\u001b[0m\u001b[0mproto\u001b[0m\u001b[0;34m.\u001b[0m\u001b[0mRETURN_MESSAGE\u001b[0m\u001b[0;34m)\u001b[0m\u001b[0;34m:\u001b[0m\u001b[0;34m\u001b[0m\u001b[0;34m\u001b[0m\u001b[0m\n",
            "\u001b[0;32m/usr/lib/python3.6/socket.py\u001b[0m in \u001b[0;36mreadinto\u001b[0;34m(self, b)\u001b[0m\n\u001b[1;32m    584\u001b[0m         \u001b[0;32mwhile\u001b[0m \u001b[0;32mTrue\u001b[0m\u001b[0;34m:\u001b[0m\u001b[0;34m\u001b[0m\u001b[0;34m\u001b[0m\u001b[0m\n\u001b[1;32m    585\u001b[0m             \u001b[0;32mtry\u001b[0m\u001b[0;34m:\u001b[0m\u001b[0;34m\u001b[0m\u001b[0;34m\u001b[0m\u001b[0m\n\u001b[0;32m--> 586\u001b[0;31m                 \u001b[0;32mreturn\u001b[0m \u001b[0mself\u001b[0m\u001b[0;34m.\u001b[0m\u001b[0m_sock\u001b[0m\u001b[0;34m.\u001b[0m\u001b[0mrecv_into\u001b[0m\u001b[0;34m(\u001b[0m\u001b[0mb\u001b[0m\u001b[0;34m)\u001b[0m\u001b[0;34m\u001b[0m\u001b[0;34m\u001b[0m\u001b[0m\n\u001b[0m\u001b[1;32m    587\u001b[0m             \u001b[0;32mexcept\u001b[0m \u001b[0mtimeout\u001b[0m\u001b[0;34m:\u001b[0m\u001b[0;34m\u001b[0m\u001b[0;34m\u001b[0m\u001b[0m\n\u001b[1;32m    588\u001b[0m                 \u001b[0mself\u001b[0m\u001b[0;34m.\u001b[0m\u001b[0m_timeout_occurred\u001b[0m \u001b[0;34m=\u001b[0m \u001b[0;32mTrue\u001b[0m\u001b[0;34m\u001b[0m\u001b[0;34m\u001b[0m\u001b[0m\n",
            "\u001b[0;31mKeyboardInterrupt\u001b[0m: "
          ]
        }
      ]
    },
    {
      "cell_type": "code",
      "metadata": {
        "id": "jSxUjSG2ORlY",
        "colab_type": "code",
        "colab": {}
      },
      "source": [
        "# Write DataFrame to review_id_table table in RDS\n",
        "clean_review_df.write.jdbc(url=jdbc_url, table='review_id_table', mode=mode, properties=config)"
      ],
      "execution_count": null,
      "outputs": []
    },
    {
      "cell_type": "code",
      "metadata": {
        "id": "wotNaA9rOTNp",
        "colab_type": "code",
        "colab": {}
      },
      "source": [
        "# Write dataframe to products table in RDS\n",
        "clean_products_df.write.jdbc(url=jdbc_url, table='products', mode=mode, properties=config)"
      ],
      "execution_count": null,
      "outputs": []
    },
    {
      "cell_type": "code",
      "metadata": {
        "id": "NeoVZGpZOTTc",
        "colab_type": "code",
        "colab": {}
      },
      "source": [
        "# Write dataframe to customers table in RDS\n",
        "clean_customers_df.write.jdbc(url=jdbc_url, table='customers', mode=mode, properties=config)"
      ],
      "execution_count": null,
      "outputs": []
    },
    {
      "cell_type": "code",
      "metadata": {
        "id": "E8kvMY9Yibmz",
        "colab_type": "code",
        "colab": {
          "base_uri": "https://localhost:8080/",
          "height": 295
        },
        "outputId": "a8ed3f23-9d45-4eb1-8d2e-65542ba08604"
      },
      "source": [
        "\n",
        "\n",
        "vine_table_df.show(10)"
      ],
      "execution_count": null,
      "outputs": [
        {
          "output_type": "stream",
          "text": [
            "+--------------+-----------+-------------+-----------+----+\n",
            "|     review_id|star_rating|helpful_votes|total_votes|vine|\n",
            "+--------------+-----------+-------------+-----------+----+\n",
            "|R1009D4P4FS0H5|          5|            0|          0|   N|\n",
            "|R100KRNEKW216J|          5|            0|          0|   N|\n",
            "|R100RLLUBWF8LV|          5|            0|          0|   N|\n",
            "|R100SQRRYXEXRS|          4|            0|          1|   N|\n",
            "|R100XCP47QLYGY|          5|            0|          0|   N|\n",
            "|R101COSNZ9CHZZ|          4|            0|          0|   N|\n",
            "|R101J2DDFFWXSA|          5|            0|          0|   N|\n",
            "|R101RFMV849UM0|          1|            1|          1|   N|\n",
            "|R101WR8MV7RHVJ|          5|            0|          0|   N|\n",
            "|R1022R2XT4MODW|          4|            2|          2|   N|\n",
            "+--------------+-----------+-------------+-----------+----+\n",
            "only showing top 10 rows\n",
            "\n"
          ],
          "name": "stdout"
        }
      ]
    },
    {
      "cell_type": "code",
      "metadata": {
        "id": "D_wH4A4MeBTy",
        "colab_type": "code",
        "colab": {}
      },
      "source": [
        ""
      ],
      "execution_count": null,
      "outputs": []
    },
    {
      "cell_type": "code",
      "metadata": {
        "id": "CM7hdBkHeBWP",
        "colab_type": "code",
        "colab": {
          "base_uri": "https://localhost:8080/",
          "height": 295
        },
        "outputId": "7ff9465c-e675-4c41-9eb4-45959734c42e"
      },
      "source": [
        "# Filter the df with total votes more than 20\n",
        "vine_df2 = vine_table_df.filter(vine_table_df[\"total_votes\"] >= 20)\n",
        "vine_df2.show(10)"
      ],
      "execution_count": null,
      "outputs": [
        {
          "output_type": "stream",
          "text": [
            "+--------------+-----------+-------------+-----------+----+\n",
            "|     review_id|star_rating|helpful_votes|total_votes|vine|\n",
            "+--------------+-----------+-------------+-----------+----+\n",
            "| R4X5EY62I7HO1|          5|           46|         52|   N|\n",
            "|R3AKWZ7O3FVVMS|          1|           22|         23|   N|\n",
            "|R2KZSN9SFY3M59|          5|           23|         23|   N|\n",
            "| R4RS735HKSPMW|          5|           53|         54|   N|\n",
            "|R22UHTP1GC8G9O|          1|           73|         74|   N|\n",
            "| RZVCN1W3IF1XL|          1|           41|         52|   N|\n",
            "|R17HFK5K15M9PU|          5|           31|         32|   N|\n",
            "|R33E4PLGZNK67W|          3|           19|         20|   N|\n",
            "|R3AVB9RYTWCRMY|          5|           21|         24|   N|\n",
            "|R1LEBX6TC665NJ|          5|           18|         20|   N|\n",
            "+--------------+-----------+-------------+-----------+----+\n",
            "only showing top 10 rows\n",
            "\n"
          ],
          "name": "stdout"
        }
      ]
    },
    {
      "cell_type": "code",
      "metadata": {
        "id": "tAHGWwc1PrHA",
        "colab_type": "code",
        "colab": {
          "base_uri": "https://localhost:8080/",
          "height": 295
        },
        "outputId": "3f542058-7ac7-4dac-cb2b-872972bafc30"
      },
      "source": [
        "# Filter the above df to include the rows who have helpful votes more than 50%\n",
        "vine_df3 = vine_df2.filter(vine_df2[\"helpful_votes\"]/vine_df2[\"total_votes\"] >= 0.5)\n",
        "vine_df3.show(10)"
      ],
      "execution_count": null,
      "outputs": [
        {
          "output_type": "stream",
          "text": [
            "+--------------+-----------+-------------+-----------+----+\n",
            "|     review_id|star_rating|helpful_votes|total_votes|vine|\n",
            "+--------------+-----------+-------------+-----------+----+\n",
            "| R4X5EY62I7HO1|          5|           46|         52|   N|\n",
            "|R3AKWZ7O3FVVMS|          1|           22|         23|   N|\n",
            "|R2KZSN9SFY3M59|          5|           23|         23|   N|\n",
            "| R4RS735HKSPMW|          5|           53|         54|   N|\n",
            "|R22UHTP1GC8G9O|          1|           73|         74|   N|\n",
            "| RZVCN1W3IF1XL|          1|           41|         52|   N|\n",
            "|R17HFK5K15M9PU|          5|           31|         32|   N|\n",
            "|R33E4PLGZNK67W|          3|           19|         20|   N|\n",
            "|R3AVB9RYTWCRMY|          5|           21|         24|   N|\n",
            "|R1LEBX6TC665NJ|          5|           18|         20|   N|\n",
            "+--------------+-----------+-------------+-----------+----+\n",
            "only showing top 10 rows\n",
            "\n"
          ],
          "name": "stdout"
        }
      ]
    },
    {
      "cell_type": "code",
      "metadata": {
        "id": "2m3OoLDCPrJ2",
        "colab_type": "code",
        "colab": {}
      },
      "source": [
        "# divide the above data into two categories votes which were a part of reward program with Vine as yes\n",
        "yes_vine_df = vine_df3.filter(vine_df3[\"vine\"] == \"Y\")"
      ],
      "execution_count": null,
      "outputs": []
    },
    {
      "cell_type": "code",
      "metadata": {
        "id": "sCuHPbv7PrMS",
        "colab_type": "code",
        "colab": {}
      },
      "source": [
        "# divide the above data into two categories votes which were a part of reward program with Vine as no\n",
        "no_vine_df = vine_df3.filter(vine_df3[\"vine\"] == \"N\")"
      ],
      "execution_count": null,
      "outputs": []
    },
    {
      "cell_type": "code",
      "metadata": {
        "id": "0UMpGw-sPrPI",
        "colab_type": "code",
        "colab": {
          "base_uri": "https://localhost:8080/",
          "height": 191
        },
        "outputId": "fed8c178-2064-4425-893a-0001865dcf28"
      },
      "source": [
        "# show the statistics for reward program with Vine as yes\n",
        "yes_vine_df.describe().show()"
      ],
      "execution_count": null,
      "outputs": [
        {
          "output_type": "stream",
          "text": [
            "+-------+--------------+-----------------+-----------------+-----------------+----+\n",
            "|summary|     review_id|      star_rating|    helpful_votes|      total_votes|vine|\n",
            "+-------+--------------+-----------------+-----------------+-----------------+----+\n",
            "|  count|           334|              334|              334|              334| 334|\n",
            "|   mean|          null|4.098802395209581|65.01497005988024|72.36826347305389|null|\n",
            "| stddev|          null|0.973738532463338|84.58385900781397|94.57132147550898|null|\n",
            "|    min|R10V1GEWC8KK40|                1|               13|               20|   Y|\n",
            "|    max| RZL21K50M52KW|                5|              720|              928|   Y|\n",
            "+-------+--------------+-----------------+-----------------+-----------------+----+\n",
            "\n"
          ],
          "name": "stdout"
        }
      ]
    },
    {
      "cell_type": "code",
      "metadata": {
        "id": "e-EHBAIAPrR4",
        "colab_type": "code",
        "colab": {
          "base_uri": "https://localhost:8080/",
          "height": 191
        },
        "outputId": "17b0051f-18eb-41f1-9da5-014d0a0c1ff3"
      },
      "source": [
        "# show the statistics for reward program with Vine as no\n",
        "no_vine_df.describe().show()"
      ],
      "execution_count": null,
      "outputs": [
        {
          "output_type": "stream",
          "text": [
            "+-------+--------------+------------------+------------------+------------------+-----+\n",
            "|summary|     review_id|       star_rating|     helpful_votes|       total_votes| vine|\n",
            "+-------+--------------+------------------+------------------+------------------+-----+\n",
            "|  count|         61589|             61589|             61589|             61589|61589|\n",
            "|   mean|          null|3.8774943577586907|  50.9515173164039| 56.09922226371592| null|\n",
            "| stddev|          null| 1.476267050453788|103.97497675828791|108.99226354759766| null|\n",
            "|    min|R1002IDT34USH7|                 1|                10|                20|    N|\n",
            "|    max| RZZTD14VO9O1A|                 5|              7379|              7512|    N|\n",
            "+-------+--------------+------------------+------------------+------------------+-----+\n",
            "\n"
          ],
          "name": "stdout"
        }
      ]
    },
    {
      "cell_type": "code",
      "metadata": {
        "id": "VujvvcnxPrUX",
        "colab_type": "code",
        "colab": {
          "base_uri": "https://localhost:8080/",
          "height": 34
        },
        "outputId": "257bfe4f-8969-493a-e7db-09242f3fdbf5"
      },
      "source": [
        "# total count for reward program with Vine as yes\n",
        "yes_vine_count = yes_vine_df.count()\n",
        "yes_vine_count"
      ],
      "execution_count": null,
      "outputs": [
        {
          "output_type": "execute_result",
          "data": {
            "text/plain": [
              "334"
            ]
          },
          "metadata": {
            "tags": []
          },
          "execution_count": 23
        }
      ]
    },
    {
      "cell_type": "code",
      "metadata": {
        "id": "_FkTePcLPrW9",
        "colab_type": "code",
        "colab": {
          "base_uri": "https://localhost:8080/",
          "height": 34
        },
        "outputId": "53134066-2cdf-45a2-e275-15e5f10c0151"
      },
      "source": [
        "# Count the data who have given five star rating for reward program with Vine as yes\n",
        "yes_vine_five = yes_vine_df[yes_vine_df['star_rating']== 5].count()\n",
        "yes_vine_five"
      ],
      "execution_count": null,
      "outputs": [
        {
          "output_type": "execute_result",
          "data": {
            "text/plain": [
              "139"
            ]
          },
          "metadata": {
            "tags": []
          },
          "execution_count": 24
        }
      ]
    },
    {
      "cell_type": "code",
      "metadata": {
        "id": "xcvbp_osP46i",
        "colab_type": "code",
        "colab": {
          "base_uri": "https://localhost:8080/",
          "height": 34
        },
        "outputId": "92e0b3b6-72d7-4018-ee5e-c12934b77dc6"
      },
      "source": [
        "# percentage of five star rating on the total number of data for reward program with Vine as yes\n",
        "percentage_five_vine_yes = (float(yes_vine_five) / float(yes_vine_count)) * 100\n",
        "percentage_five_vine_yes"
      ],
      "execution_count": null,
      "outputs": [
        {
          "output_type": "execute_result",
          "data": {
            "text/plain": [
              "41.61676646706587"
            ]
          },
          "metadata": {
            "tags": []
          },
          "execution_count": 33
        }
      ]
    },
    {
      "cell_type": "code",
      "metadata": {
        "id": "OvbCN_-iP49M",
        "colab_type": "code",
        "colab": {
          "base_uri": "https://localhost:8080/",
          "height": 34
        },
        "outputId": "53b5b5b8-ccc1-41f4-9ade-c236d6473d98"
      },
      "source": [
        "# total count for reward program with Vine as no\n",
        "no_vine_count = no_vine_df.count()\n",
        "no_vine_count"
      ],
      "execution_count": null,
      "outputs": [
        {
          "output_type": "execute_result",
          "data": {
            "text/plain": [
              "61589"
            ]
          },
          "metadata": {
            "tags": []
          },
          "execution_count": 26
        }
      ]
    },
    {
      "cell_type": "code",
      "metadata": {
        "id": "-qZVe-3eP4_w",
        "colab_type": "code",
        "colab": {
          "base_uri": "https://localhost:8080/",
          "height": 34
        },
        "outputId": "b776b275-b663-45e3-f2f3-fdf8bfef90e9"
      },
      "source": [
        "# Count the data who have given five star rating for reward program with Vine as no\n",
        "no_vine_five = no_vine_df[no_vine_df['star_rating']== 5].count()\n",
        "no_vine_five"
      ],
      "execution_count": null,
      "outputs": [
        {
          "output_type": "execute_result",
          "data": {
            "text/plain": [
              "32660"
            ]
          },
          "metadata": {
            "tags": []
          },
          "execution_count": 27
        }
      ]
    },
    {
      "cell_type": "code",
      "metadata": {
        "id": "XJZinZD4P5Cn",
        "colab_type": "code",
        "colab": {
          "base_uri": "https://localhost:8080/",
          "height": 34
        },
        "outputId": "574b0a69-87e2-422e-c769-afdf803283c3"
      },
      "source": [
        "# percentage of five star rating on the total number of data for reward program with Vine as no\n",
        "percentage_five_vine_no = (float(no_vine_five) / float(no_vine_count)) * 100\n",
        "percentage_five_vine_no"
      ],
      "execution_count": null,
      "outputs": [
        {
          "output_type": "execute_result",
          "data": {
            "text/plain": [
              "53.028949974833175"
            ]
          },
          "metadata": {
            "tags": []
          },
          "execution_count": 32
        }
      ]
    },
    {
      "cell_type": "code",
      "metadata": {
        "id": "VrSdLu--P5FA",
        "colab_type": "code",
        "colab": {
          "base_uri": "https://localhost:8080/",
          "height": 34
        },
        "outputId": "e54f7885-dc19-492f-907e-27cd2e1e31d7"
      },
      "source": [
        "# percentage of five star rating with vine reward program as compared to without vine reward program \n",
        "five_star_biased_percent = (float(yes_vine_five) / float(no_vine_five)) * 1000\n",
        "five_star_biased_percent"
      ],
      "execution_count": null,
      "outputs": [
        {
          "output_type": "execute_result",
          "data": {
            "text/plain": [
              "4.255970606246173"
            ]
          },
          "metadata": {
            "tags": []
          },
          "execution_count": 34
        }
      ]
    },
    {
      "cell_type": "code",
      "metadata": {
        "id": "884FI5nPPrZT",
        "colab_type": "code",
        "colab": {}
      },
      "source": [
        "Objective: Determine if Vine reviews are biased using appropriate statistical methods.\n",
        "\n",
        "Data: In cleaning the data, we dropped and null and duplicate values. Then we only pulled reviews that had \n",
        "more than 20 total votes. Lastly, we pulled the reviews that had more than 50% of helpful votes.\n",
        "\n",
        "Analysis: The data was divided into two categories: data where vine = \"Y\" which means that the voters were \n",
        "part of the reward program and data where vine = \"n\" which means that the voters were not apart of the \n",
        "reward program.\n",
        "\n",
        "Conclusion: \n",
        "\n",
        "Where Vine = \"Y\", the total count is 334, the mean for star_rating was 4.09, helpful_votes 65.01 and \n",
        "total votes was 72.36. The five star rating given was 41.61%\n",
        "\n",
        "Where Vine = \"N\", the total count is 61589, the mean for star_rating was 3.87, helpful_votes 50.95 and \n",
        "total votes was 56.09. The five star rating given was 53.02%\n",
        "\n",
        "The total percentage of 5 star reviews of where vine = \"Y\" and \"N\", is only 4.25%. The reviews are not \n",
        "biased as a large portion of individuals not apart of the reward program still gave five start ratings \n",
        "and over half the reviews were listed a helpful."
      ],
      "execution_count": null,
      "outputs": []
    }
  ]
}